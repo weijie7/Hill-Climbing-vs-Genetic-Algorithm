{
 "cells": [
  {
   "cell_type": "markdown",
   "metadata": {},
   "source": [
    "### Stocastic Search & Mutation"
   ]
  },
  {
   "cell_type": "code",
   "execution_count": 20,
   "metadata": {},
   "outputs": [],
   "source": [
    "import random\n",
    "import string\n",
    "import pandas as pd\n",
    "import math\n",
    "import matplotlib.pyplot as plt"
   ]
  },
  {
   "cell_type": "markdown",
   "metadata": {},
   "source": [
    "In this example, we are going to have a set of strings or sentences as goal. And we are going to initialize our first solution from random strings from string.printable. Solutions will be evaluated to see how \"far\" are they from our goal. Solution with score would mean further away from goal.\n",
    "\n",
    "Random mutation will be introduced. This approach is also known as Hill climbing by mutation and random choice appraoch. If the new found solution is better solution than the previous one, it will discard the previous one and take the current solution. Mutation will repeat until it reaches goal. Number of mutation will be recorded, trend of fitness converging to 0 will also be shown in the end.\n",
    "\n",
    "Finally this will be compared to Genetic Algorithm approach to understand the difference in this case."
   ]
  },
  {
   "cell_type": "code",
   "execution_count": 13,
   "metadata": {},
   "outputs": [
    {
     "data": {
      "text/plain": [
       "'0123456789abcdefghijklmnopqrstuvwxyzABCDEFGHIJKLMNOPQRSTUVWXYZ!\"#$%&\\'()*+,-./:;<=>?@[\\\\]^_`{|}~ \\t\\n\\r\\x0b\\x0c'"
      ]
     },
     "execution_count": 13,
     "metadata": {},
     "output_type": "execute_result"
    }
   ],
   "source": [
    "string.printable"
   ]
  },
  {
   "cell_type": "code",
   "execution_count": 44,
   "metadata": {},
   "outputs": [],
   "source": [
    "def generate_random_solution():\n",
    "    solution = \"\"\n",
    "    for i in range(len(goal)):\n",
    "        solution = solution+ random.choice(string.printable)\n",
    "    return solution"
   ]
  },
  {
   "cell_type": "code",
   "execution_count": 45,
   "metadata": {},
   "outputs": [],
   "source": [
    "def evaluate(solution, goal):\n",
    "    score = 0\n",
    "    for i in range(len(solution)):\n",
    "        score += abs(ord(solution[i]) - ord(goal[i]))\n",
    "    return score"
   ]
  },
  {
   "cell_type": "code",
   "execution_count": 46,
   "metadata": {},
   "outputs": [],
   "source": [
    "def mutation(solution):\n",
    "    solution_ = [i for i in solution]\n",
    "    solution_[random.choice(range(0,len(solution)))] = random.choice(string.printable)\n",
    "    solution = ''.join(solution_)\n",
    "    return solution"
   ]
  },
  {
   "cell_type": "code",
   "execution_count": 47,
   "metadata": {},
   "outputs": [],
   "source": [
    "goal= \"Hello, world!\"\n",
    "best_sol = generate_random_solution()\n",
    "mutate_count = 0\n",
    "best_score = evaluate(best_sol, goal)\n",
    "score_lst = []\n",
    "\n",
    "while len(best_sol) == len(goal):\n",
    "    score_lst.append(best_score)\n",
    "#     print(f'Best possible score is {best_score}, word is {best_sol}')\n",
    "#     print(f'doing random mutation #{mutate_count}')\n",
    "    if best_score == 0:\n",
    "        break\n",
    "    solution = mutation(best_sol)\n",
    "    score = evaluate(solution, goal)\n",
    "    mutate_count += 1\n",
    "    if score < best_score:\n",
    "        best_sol = solution\n",
    "        best_score = score"
   ]
  },
  {
   "cell_type": "code",
   "execution_count": 48,
   "metadata": {},
   "outputs": [
    {
     "data": {
      "image/png": "[encoded data removed]",
      "text/plain": [
       "<Figure size 432x288 with 1 Axes>"
      ]
     },
     "metadata": {
      "needs_background": "light"
     },
     "output_type": "display_data"
    }
   ],
   "source": [
    "plt.plot(score_lst)\n",
    "plt.ylabel('Fitness')\n",
    "plt.xlabel(f'Mutate Count, total ={mutate_count}')\n",
    "plt.show()"
   ]
  },
  {
   "cell_type": "markdown",
   "metadata": {},
   "source": [
    "Mutation count will vary between 2500 to 8000 generations, as it involves a lot of randomness, until it reaches 0. And you can see from the fitness declining trend, there is only downwards, because solution is only accepted if it is better, else it is being discarded and the search continues."
   ]
  },
  {
   "cell_type": "markdown",
   "metadata": {},
   "source": [
    "Now, let us look at Genetic Algorithm."
   ]
  },
  {
   "cell_type": "markdown",
   "metadata": {},
   "source": [
    "### Genetic Algorithm"
   ]
  },
  {
   "cell_type": "markdown",
   "metadata": {},
   "source": [
    "For Genetic Algorithm (GA), instead of single solution being mutated over and over, GA approach is evolution of entire population. To simuate this, we will need to initialize a population of solution.\n",
    "\n",
    "Same thing, we will randomly initialize solution for a population size that we define. We also define our Surviving Rate (known as elite size in this example, where the fittest of the fittest in the population get retained over and over generation). \n",
    "\n",
    "Next is Selection process, where we use Roulette Wheel / Wheel of Fortune to select a few of fitter solutions to replace the weaker solutions (by probability) in that population. From the selected population, we select a few solutions for crossover, based on crossover rate. Elite solutions will not be replaced or changed to keep the gene in the pool. Next is Mutation of single character in solutions, according to mutation rate. Again, elite solution will not be mutated. The result of these series of process will produce a new generation.\n",
    "\n",
    "This entire process is looped until stop criteria is reached i.e. number of generation defined.\n",
    "Fitness trend will be plot against generations. Different mutation rate and crossover rate are also trialed to study the correlation to ultimate fitness of population.\n"
   ]
  },
  {
   "cell_type": "code",
   "execution_count": 49,
   "metadata": {},
   "outputs": [],
   "source": [
    "#generate random solution for popsize given, and goal set\n",
    "\n",
    "def generate_random_solution(popsize, goal):\n",
    "    solution_lst = []\n",
    "    for j in range(popsize):\n",
    "        solution = \"\"\n",
    "        for i in range(len(goal)):\n",
    "            solution = solution+ random.choice(string.printable)\n",
    "        solution_lst.append(solution)\n",
    "    return solution_lst"
   ]
  },
  {
   "cell_type": "code",
   "execution_count": 50,
   "metadata": {},
   "outputs": [],
   "source": [
    "#fitness function for each solution and goal\n",
    "\n",
    "def evaluate(solution, goal):\n",
    "    score = 0\n",
    "    for i in range(len(solution)):\n",
    "        score += abs(ord(solution[i]) - ord(goal[i]))\n",
    "    return score"
   ]
  },
  {
   "cell_type": "code",
   "execution_count": 51,
   "metadata": {},
   "outputs": [],
   "source": [
    "#sort current generation according to its fitness\n",
    "#return (index of current gen, fitness fn)\n",
    "\n",
    "def rank(current_gen):\n",
    "    lst = []\n",
    "    for i,sol in enumerate(current_gen):\n",
    "        lst.append((i,evaluate(sol, goal)))\n",
    "    return sorted(lst,key = lambda x: x[1])"
   ]
  },
  {
   "cell_type": "code",
   "execution_count": 52,
   "metadata": {},
   "outputs": [],
   "source": [
    "#do selection based on their fitness, and cummulative probability. Select elite_size to keep\n",
    "#if elite_size is 3, top 3 will be kept in the generation\n",
    "#elite_size here is like surviving rate\n",
    "\n",
    "def selection(current_gen, elite_size):\n",
    "    ranked_gen = rank(current_gen)    \n",
    "    \n",
    "    #select top elite_size, append to list\n",
    "    selection_lst = []\n",
    "    for i in range(elite_size):\n",
    "        selection_lst.append(current_gen[ranked_gen[i][0]])\n",
    "    \n",
    "    #for remaining, do selection based on probability\n",
    "    df = pd.DataFrame(ranked_gen,columns=['index','fitness'])\n",
    "    df['probability'] = df['fitness'] / df['fitness'].sum()\n",
    "    df['cumsum'] = df['probability'].cumsum()\n",
    "    \n",
    "    for i in range(len(current_gen) - elite_size):\n",
    "        r = random.random()\n",
    "        for j in range(len(df)):\n",
    "            if r < df.iat[j,3]:\n",
    "                selection_lst.append(current_gen[df.iat[j-1,0]])\n",
    "                break\n",
    "    return selection_lst"
   ]
  },
  {
   "cell_type": "code",
   "execution_count": 53,
   "metadata": {},
   "outputs": [],
   "source": [
    "#breeding function for crossover\n",
    "#take in string\n",
    "\n",
    "def breed(parent1, parent2, cross_length=0.1):\n",
    "    cross_char = math.ceil(cross_length*len(parent1))\n",
    "    cross_point = random.randint(1, len(parent1)-cross_char)\n",
    "       \n",
    "    child1 = parent1[:cross_point] + parent2[cross_point:cross_point+cross_char] + parent1[cross_point+cross_char:]\n",
    "    #child2 = parent2[:cross_point] + parent1[cross_point:cross_point+cross_char] + parent2[cross_point+cross_char:]\n",
    "    return child1 #, child2"
   ]
  },
  {
   "cell_type": "code",
   "execution_count": 37,
   "metadata": {},
   "outputs": [],
   "source": [
    "#do crossover. Crossover does not include fitness consideration, but solely on crossover rate.\n",
    "#elite_size can be kept, top 3 will be retained. This elite_size should be the same as selection's elite_size as \n",
    "#Fn will assume no change in order.\n",
    "#the rest will be subject to crossover rate.\n",
    "\n",
    "def crossover(selection_lst, elite_size, crossover_rate=0.4):\n",
    "    crossover_lst = []\n",
    "    #put first n from elite_size into list\n",
    "    for i in range(elite_size):\n",
    "        crossover_lst.append(selection_lst[i])\n",
    "        \n",
    "    #generate the rest of children and replace their parents\n",
    "    for i in range(elite_size,len(selection_lst)):\n",
    "        if random.random() < crossover_rate:\n",
    "            #crossover\n",
    "            parent1 = i\n",
    "            parent2 = random.choice([j for j in range(0,len(selection_lst)) if j not in [i]])\n",
    "            child = breed(selection_lst[i], selection_lst[parent2])\n",
    "            crossover_lst.append(child)\n",
    "        else:\n",
    "            crossover_lst.append(selection_lst[i])\n",
    "    return crossover_lst"
   ]
  },
  {
   "cell_type": "code",
   "execution_count": 54,
   "metadata": {},
   "outputs": [],
   "source": [
    "#Do mutation based on mutation rate. Random choice of a word, mutate randomly.\n",
    "\n",
    "def mutation(crossover_lst, mutation_rate = 0.1):\n",
    "    mutation_lst= []\n",
    "    for sol in crossover_lst:\n",
    "        if random.random()<0.1:\n",
    "            solution_ = [i for i in sol]\n",
    "            solution_[random.choice(range(0,len(sol)))] = random.choice(string.printable)\n",
    "            mutation_lst.append(''.join(solution_))\n",
    "        else:\n",
    "            mutation_lst.append(sol)\n",
    "    return mutation_lst"
   ]
  },
  {
   "cell_type": "code",
   "execution_count": 55,
   "metadata": {},
   "outputs": [],
   "source": [
    "#for iteration of next generation\n",
    "\n",
    "def nextgeneration(current_gen, elite_size, crossover_rate, mutation_rate):\n",
    "    selection_lst = selection(current_gen, elite_size)\n",
    "    crossover_lst = crossover(selection_lst, elite_size, crossover_rate=0.4)\n",
    "    next_gen = mutation(crossover_lst, mutation_rate)\n",
    "    return next_gen"
   ]
  },
  {
   "cell_type": "code",
   "execution_count": 40,
   "metadata": {},
   "outputs": [
    {
     "data": {
      "image/png": "[encoded data removed]",
      "text/plain": [
       "<Figure size 432x288 with 1 Axes>"
      ]
     },
     "metadata": {
      "needs_background": "light"
     },
     "output_type": "display_data"
    },
    {
     "name": "stdout",
     "output_type": "stream",
     "text": [
      "Best result : Hflno Worlc\" 5\n"
     ]
    }
   ],
   "source": [
    "goal = \"Hello World!\"\n",
    "popsize = 10\n",
    "crossover_rate = 0.2\n",
    "mutation_rate = 0.9\n",
    "elite_size = 3\n",
    "gen = 8000\n",
    "\n",
    "current_gen = generate_random_solution(popsize, goal)\n",
    "fitness_best = []\n",
    "fitness_worst = []\n",
    "sum_fitness = []\n",
    "\n",
    "for i in range(gen):\n",
    "    current_gen = nextgeneration(current_gen, elite_size, crossover_rate, mutation_rate)\n",
    "    fitness_best.append(rank(current_gen)[0][1])\n",
    "    fitness_worst.append(rank(current_gen)[-1][1])\n",
    "    sum_fitness.append(sum([i[1] for i in rank(current_gen)]))\n",
    "    \n",
    "plt.plot(fitness_best)\n",
    "#plt.plot(fitness_worst)\n",
    "plt.ylabel('Fitness')\n",
    "plt.xlabel(f'Generation == {gen}')\n",
    "plt.show()\n",
    "\n",
    "print('Best result :', current_gen[0], rank(current_gen)[0][1])"
   ]
  },
  {
   "cell_type": "code",
   "execution_count": 41,
   "metadata": {},
   "outputs": [
    {
     "data": {
      "image/png": "[encoded data removed]",
      "text/plain": [
       "<Figure size 432x288 with 1 Axes>"
      ]
     },
     "metadata": {
      "needs_background": "light"
     },
     "output_type": "display_data"
    },
    {
     "name": "stdout",
     "output_type": "stream",
     "text": [
      "Best result : Pewfa1Fntek= 118\n"
     ]
    }
   ],
   "source": [
    "goal = \"Hello World!\"\n",
    "popsize = 100\n",
    "crossover_rate = 0.2\n",
    "mutation_rate = 0.9\n",
    "elite_size = 3\n",
    "gen = 8000\n",
    "\n",
    "current_gen = generate_random_solution(popsize, goal)\n",
    "fitness_best = []\n",
    "fitness_worst = []\n",
    "sum_fitness = []\n",
    "\n",
    "for i in range(gen):\n",
    "    current_gen = nextgeneration(current_gen, elite_size, crossover_rate, mutation_rate)\n",
    "    fitness_best.append(rank(current_gen)[0][1])\n",
    "    fitness_worst.append(rank(current_gen)[-1][1])\n",
    "    sum_fitness.append(sum([i[1] for i in rank(current_gen)]))\n",
    "    \n",
    "plt.plot(fitness_best)\n",
    "#plt.plot(fitness_worst)\n",
    "plt.ylabel('Fitness')\n",
    "plt.xlabel(f'Generation == {gen}')\n",
    "plt.show()\n",
    "\n",
    "print('Best result :', current_gen[0], rank(current_gen)[0][1])"
   ]
  },
  {
   "cell_type": "code",
   "execution_count": 56,
   "metadata": {},
   "outputs": [
    {
     "data": {
      "image/png": "[encoded data removed]",
      "text/plain": [
       "<Figure size 432x288 with 1 Axes>"
      ]
     },
     "metadata": {
      "needs_background": "light"
     },
     "output_type": "display_data"
    },
    {
     "name": "stdout",
     "output_type": "stream",
     "text": [
      "Best result : Hello Wlolb! 8\n"
     ]
    }
   ],
   "source": [
    "goal = \"Hello World!\"\n",
    "popsize = 5\n",
    "crossover_rate = 0.2\n",
    "mutation_rate = 0.9\n",
    "elite_size = 3\n",
    "gen = 8000\n",
    "\n",
    "current_gen = generate_random_solution(popsize, goal)\n",
    "fitness_best = []\n",
    "fitness_worst = []\n",
    "sum_fitness = []\n",
    "\n",
    "for i in range(gen):\n",
    "    current_gen = nextgeneration(current_gen, elite_size, crossover_rate, mutation_rate)\n",
    "    fitness_best.append(rank(current_gen)[0][1])\n",
    "    fitness_worst.append(rank(current_gen)[-1][1])\n",
    "    sum_fitness.append(sum([i[1] for i in rank(current_gen)]))\n",
    "    \n",
    "plt.plot(fitness_best)\n",
    "#plt.plot(fitness_worst)\n",
    "plt.ylabel('Fitness')\n",
    "plt.xlabel(f'Generation == {gen}')\n",
    "plt.show()\n",
    "\n",
    "print('Best result :', current_gen[0], rank(current_gen)[0][1])"
   ]
  },
  {
   "cell_type": "markdown",
   "metadata": {},
   "source": [
    "With higher population like 100, we are introducing a lot of random strings, and the population just doesn't converge to a better solution. We may need a lot of generations for that to work.\n",
    "\n",
    "Now we do higher crossover rate and lower mutation rate."
   ]
  },
  {
   "cell_type": "code",
   "execution_count": 58,
   "metadata": {},
   "outputs": [
    {
     "data": {
      "image/png": "[encoded data removed]",
      "text/plain": [
       "<Figure size 432x288 with 1 Axes>"
      ]
     },
     "metadata": {
      "needs_background": "light"
     },
     "output_type": "display_data"
    },
    {
     "name": "stdout",
     "output_type": "stream",
     "text": [
      "Best result : Fello Wmklb# 13\n"
     ]
    }
   ],
   "source": [
    "goal = \"Hello World!\"\n",
    "popsize = 10\n",
    "crossover_rate = 0.6\n",
    "mutation_rate = 0.2\n",
    "elite_size = 3\n",
    "gen = 8000\n",
    "\n",
    "current_gen = generate_random_solution(popsize, goal)\n",
    "fitness_best = []\n",
    "fitness_worst = []\n",
    "sum_fitness = []\n",
    "\n",
    "for i in range(gen):\n",
    "    current_gen = nextgeneration(current_gen, elite_size, crossover_rate, mutation_rate)\n",
    "    fitness_best.append(rank(current_gen)[0][1])\n",
    "    fitness_worst.append(rank(current_gen)[-1][1])\n",
    "    sum_fitness.append(sum([i[1] for i in rank(current_gen)]))\n",
    "    \n",
    "plt.plot(fitness_best)\n",
    "#plt.plot(fitness_worst)\n",
    "plt.ylabel('Fitness')\n",
    "plt.xlabel(f'Generation == {gen}')\n",
    "plt.show()\n",
    "\n",
    "print('Best result :', current_gen[0], rank(current_gen)[0][1])"
   ]
  },
  {
   "cell_type": "code",
   "execution_count": 59,
   "metadata": {},
   "outputs": [
    {
     "data": {
      "image/png": "[encoded data removed]",
      "text/plain": [
       "<Figure size 432x288 with 1 Axes>"
      ]
     },
     "metadata": {
      "needs_background": "light"
     },
     "output_type": "display_data"
    },
    {
     "name": "stdout",
     "output_type": "stream",
     "text": [
      "Best result : Hgjoo Wbrld\" 21\n"
     ]
    }
   ],
   "source": [
    "goal = \"Hello World!\"\n",
    "popsize = 10\n",
    "crossover_rate = 0.8\n",
    "mutation_rate = 0.1\n",
    "elite_size = 3\n",
    "gen = 8000\n",
    "\n",
    "current_gen = generate_random_solution(popsize, goal)\n",
    "fitness_best = []\n",
    "fitness_worst = []\n",
    "sum_fitness = []\n",
    "\n",
    "for i in range(gen):\n",
    "    current_gen = nextgeneration(current_gen, elite_size, crossover_rate, mutation_rate)\n",
    "    fitness_best.append(rank(current_gen)[0][1])\n",
    "    fitness_worst.append(rank(current_gen)[-1][1])\n",
    "    sum_fitness.append(sum([i[1] for i in rank(current_gen)]))\n",
    "    \n",
    "plt.plot(fitness_best)\n",
    "#plt.plot(fitness_worst)\n",
    "plt.ylabel('Fitness')\n",
    "plt.xlabel(f'Generation == {gen}')\n",
    "plt.show()\n",
    "\n",
    "print('Best result :', current_gen[0], rank(current_gen)[0][1])"
   ]
  },
  {
   "cell_type": "markdown",
   "metadata": {},
   "source": [
    "As we increase the crossover rate and reduce the rate of mutation, it does seem like it is performing worse. Then again, all these are happening in random motion.\n",
    "What is certain is that, it is extremely hard for GA to arrive at 0 fitness score. Even if it did, it will take a lot of computational efforts for the population to arrive to that."
   ]
  },
  {
   "cell_type": "code",
   "execution_count": null,
   "metadata": {},
   "outputs": [],
   "source": []
  }
 ],
 "metadata": {
  "kernelspec": {
   "display_name": "Python 3",
   "language": "python",
   "name": "python3"
  },
  "language_info": {
   "codemirror_mode": {
    "name": "ipython",
    "version": 3
   },
   "file_extension": ".py",
   "mimetype": "text/x-python",
   "name": "python",
   "nbconvert_exporter": "python",
   "pygments_lexer": "ipython3",
   "version": "3.7.4"
  }
 },
 "nbformat": 4,
 "nbformat_minor": 2
}
